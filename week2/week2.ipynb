{
 "cells": [
  {
   "cell_type": "code",
   "execution_count": 1,
   "metadata": {},
   "outputs": [],
   "source": [
    "import os"
   ]
  },
  {
   "cell_type": "code",
   "execution_count": 3,
   "metadata": {},
   "outputs": [],
   "source": [
    "os.environ[\"HOST\"] = \"localhost\"\n",
    "os.environ[\"BBUY_DATA\"] = \"/Users/krzysztof.mioduszews/Development/Courses/corise-search-eng/datasets/product_data/products\"\n",
    "os.environ[\"WEEK1_PATH\"] = \"/Users/krzysztof.mioduszews/Development/Courses/corise-search-eng/search_engineering/week1/\"\n",
    "os.environ[\"WEEK2_PATH\"] = \"/Users/krzysztof.mioduszews/Development/Courses/corise-search-eng/search_engineering/week2/\"\n"
   ]
  },
  {
   "cell_type": "code",
   "execution_count": 5,
   "metadata": {},
   "outputs": [
    {
     "name": "stdout",
     "output_type": "stream",
     "text": [
      "{\"acknowledged\":true,\"shards_acknowledged\":true,\"index\":\"bbuy_products\"}"
     ]
    }
   ],
   "source": [
    "!curl -k -X PUT -u admin:admin \"https://localhost:9200/bbuy_products\" -H 'Content-Type: application/json' -d @$WEEK1_PATH/bbuy_products.json"
   ]
  },
  {
   "cell_type": "code",
   "execution_count": 8,
   "metadata": {},
   "outputs": [
    {
     "name": "stdout",
     "output_type": "stream",
     "text": [
      "INFO:Indexing /Users/krzysztof.mioduszews/Development/Courses/corise-search-eng/datasets/product_data/products to bbuy_products with 16 workers, refresh_interval of -1 to host localhost with a maximum number of docs sent per file per worker of 200000 and 500 per batch.\n",
      "^C\n",
      "\n",
      "Caught SIGINT. Shutting down workers...\n",
      "\n"
     ]
    }
   ],
   "source": [
    "!python index.py -s $BBUY_DATA -w 16 -b 500"
   ]
  },
  {
   "attachments": {},
   "cell_type": "markdown",
   "metadata": {},
   "source": [
    "Indexed 675577 documents (~50%) in 8m 37.1s. Introducing -m (as suggested by Dave) to limit number of files to spend less time indexing."
   ]
  },
  {
   "cell_type": "code",
   "execution_count": 12,
   "metadata": {},
   "outputs": [
    {
     "name": "stdout",
     "output_type": "stream",
     "text": [
      "{\"acknowledged\":true}"
     ]
    }
   ],
   "source": [
    "# clean up first\n",
    "!curl -k -X DELETE -u admin:admin https://localhost:9200/bbuy_products\n"
   ]
  },
  {
   "cell_type": "code",
   "execution_count": 13,
   "metadata": {},
   "outputs": [
    {
     "name": "stdout",
     "output_type": "stream",
     "text": [
      "{\"acknowledged\":true,\"shards_acknowledged\":true,\"index\":\"bbuy_products\"}"
     ]
    }
   ],
   "source": [
    "!curl -k -X PUT -u admin:admin \"https://localhost:9200/bbuy_products\" -H 'Content-Type: application/json' -d @$WEEK1_PATH/bbuy_products.json"
   ]
  },
  {
   "cell_type": "code",
   "execution_count": 14,
   "metadata": {},
   "outputs": [
    {
     "name": "stdout",
     "output_type": "stream",
     "text": [
      "INFO:Indexing /Users/krzysztof.mioduszews/Development/Courses/corise-search-eng/datasets/product_data/products to bbuy_products with 16 workers, refresh_interval of -1 to host localhost with a maximum number of docs sent per file per worker of 1000 and 500 per batch.\n",
      "INFO:Done. 255077 were indexed in 2.909982067916667 minutes.  Total accumulated time spent in `bulk` indexing: 35.346926625566674 minutes\n"
     ]
    }
   ],
   "source": [
    "!python index.py -s $BBUY_DATA -w 16 -b 500 -m 1000"
   ]
  },
  {
   "attachments": {},
   "cell_type": "markdown",
   "metadata": {},
   "source": [
    "![Documents Indexed Rate](documents_indexed_rate_l1.png)"
   ]
  },
  {
   "attachments": {},
   "cell_type": "markdown",
   "metadata": {},
   "source": [
    "Re-indexing"
   ]
  },
  {
   "cell_type": "code",
   "execution_count": 15,
   "metadata": {},
   "outputs": [
    {
     "name": "stdout",
     "output_type": "stream",
     "text": [
      "INFO:Indexing /Users/krzysztof.mioduszews/Development/Courses/corise-search-eng/datasets/product_data/products to bbuy_products with 16 workers, refresh_interval of -1 to host localhost with a maximum number of docs sent per file per worker of 1000 and 500 per batch.\n",
      "INFO:Done. 255077 were indexed in 2.821483982833333 minutes.  Total accumulated time spent in `bulk` indexing: 34.966568804966656 minutes\n"
     ]
    }
   ],
   "source": [
    "!python index.py -s $BBUY_DATA -w 16 -b 500 -m 1000"
   ]
  },
  {
   "cell_type": "code",
   "execution_count": 17,
   "metadata": {},
   "outputs": [],
   "source": [
    "os.environ[\"BBUY_QUERIES\"] = \"/Users/krzysztof.mioduszews/Development/Courses/corise-search-eng/datasets/\""
   ]
  },
  {
   "cell_type": "code",
   "execution_count": null,
   "metadata": {},
   "outputs": [],
   "source": [
    "!python query.py -q $BBUY_QUERIES/train.csv -w 4 -m 25000"
   ]
  },
  {
   "attachments": {},
   "cell_type": "markdown",
   "metadata": {},
   "source": [
    "\n",
    "```bash\n",
    "# truncated output\n",
    "\n",
    "INFO:Loading query file from /Users/krzysztof.mioduszews/Development/Courses/corise-search-eng/datasets//train.csv and using seed 84 for worker: 1\n",
    "INFO:Loading query file from /Users/krzysztof.mioduszews/Development/Courses/corise-search-eng/datasets//train.csv and using seed 126 for worker: 2\n",
    "INFO:Loading query file from /Users/krzysztof.mioduszews/Development/Courses/corise-search-eng/datasets//train.csv and using seed 168 for worker: 3\n",
    "INFO:Loading query file from /Users/krzysztof.mioduszews/Development/Courses/corise-search-eng/datasets//train.csv and using seed 42 for worker: 0\n",
    "INFO:WN: 0: Running queries, checking in every 1000 queries:\n",
    "INFO:WN: 1: Running queries, checking in every 1000 queries:\n",
    "INFO:WN: 2: Running queries, checking in every 1000 queries:\n",
    "INFO:WN: 3: Running queries, checking in every 1000 queries:\n",
    "\n",
    "# ...\n",
    "\n",
    "^C\n",
    "\n",
    "Caught SIGINT. Shutting down workers...\n",
    "\n",
    "WARNING:WN: 0: Failed to process query: Switchfoot\n",
    "WARNING:WN: 3: Failed to process query: OnlineMidnightSale_Car_GPS\n",
    "WARNING:WN: 1: Failed to process query: 2398896 2402035 5386263 5386272 6804112 8579932 8589878 9374278 9650424\n",
    "WARNING:WN: 2: Failed to process query: car system\n",
    "INFO:WN: 0: Stopped early.\n",
    "INFO:WN: 3: Stopped early.\n",
    "INFO:WN: 1: Stopped early.\n",
    "INFO:WN: 2: Stopped early.\n",
    "INFO:Query worker finished in time: 8.79507190305\n",
    "INFO:Query worker finished in time: 8.795107660833335\n",
    "INFO:Query worker finished in time: 8.795038516983334\n",
    "INFO:Query worker finished in time: 8.795067490816667\n",
    "```"
   ]
  },
  {
   "attachments": {},
   "cell_type": "markdown",
   "metadata": {},
   "source": [
    "Interrupted above after 8 minutes - observed similar bahaviour as in project meterials.\n",
    "![Search Query Rate](search_query_rate_l1.png)\n",
    "![Thread Pools](thread_pools_and_the_jvm_1.png)\n"
   ]
  },
  {
   "attachments": {},
   "cell_type": "markdown",
   "metadata": {},
   "source": [
    "## Level 2"
   ]
  },
  {
   "attachments": {},
   "cell_type": "markdown",
   "metadata": {},
   "source": []
  }
 ],
 "metadata": {
  "kernelspec": {
   "display_name": ".venv",
   "language": "python",
   "name": "python3"
  },
  "language_info": {
   "codemirror_mode": {
    "name": "ipython",
    "version": 3
   },
   "file_extension": ".py",
   "mimetype": "text/x-python",
   "name": "python",
   "nbconvert_exporter": "python",
   "pygments_lexer": "ipython3",
   "version": "3.9.16"
  },
  "orig_nbformat": 4
 },
 "nbformat": 4,
 "nbformat_minor": 2
}
