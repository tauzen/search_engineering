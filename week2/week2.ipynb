{
 "cells": [
  {
   "cell_type": "code",
   "execution_count": 1,
   "metadata": {},
   "outputs": [],
   "source": [
    "import os"
   ]
  },
  {
   "cell_type": "code",
   "execution_count": 3,
   "metadata": {},
   "outputs": [],
   "source": [
    "os.environ[\"HOST\"] = \"localhost\"\n",
    "os.environ[\"BBUY_DATA\"] = \"/Users/krzysztof.mioduszews/Development/Courses/corise-search-eng/datasets/product_data/products\"\n",
    "os.environ[\"WEEK1_PATH\"] = \"/Users/krzysztof.mioduszews/Development/Courses/corise-search-eng/search_engineering/week1/\"\n",
    "os.environ[\"WEEK2_PATH\"] = \"/Users/krzysztof.mioduszews/Development/Courses/corise-search-eng/search_engineering/week2/\"\n"
   ]
  },
  {
   "cell_type": "code",
   "execution_count": 5,
   "metadata": {},
   "outputs": [
    {
     "name": "stdout",
     "output_type": "stream",
     "text": [
      "{\"acknowledged\":true,\"shards_acknowledged\":true,\"index\":\"bbuy_products\"}"
     ]
    }
   ],
   "source": [
    "!curl -k -X PUT -u admin:admin \"https://localhost:9200/bbuy_products\" -H 'Content-Type: application/json' -d @$WEEK1_PATH/bbuy_products.json"
   ]
  },
  {
   "cell_type": "code",
   "execution_count": 8,
   "metadata": {},
   "outputs": [
    {
     "name": "stdout",
     "output_type": "stream",
     "text": [
      "INFO:Indexing /Users/krzysztof.mioduszews/Development/Courses/corise-search-eng/datasets/product_data/products to bbuy_products with 16 workers, refresh_interval of -1 to host localhost with a maximum number of docs sent per file per worker of 200000 and 500 per batch.\n",
      "^C\n",
      "\n",
      "Caught SIGINT. Shutting down workers...\n",
      "\n"
     ]
    }
   ],
   "source": [
    "!python index.py -s $BBUY_DATA -w 16 -b 500"
   ]
  },
  {
   "attachments": {},
   "cell_type": "markdown",
   "metadata": {},
   "source": [
    "Indexed 675577 documents (~50%) in 8m 37.1s. Introducing -m (as suggested by Dave) to limit number of files to spend less time indexing."
   ]
  },
  {
   "cell_type": "code",
   "execution_count": 12,
   "metadata": {},
   "outputs": [
    {
     "name": "stdout",
     "output_type": "stream",
     "text": [
      "{\"acknowledged\":true}"
     ]
    }
   ],
   "source": [
    "# clean up first\n",
    "!curl -k -X DELETE -u admin:admin https://localhost:9200/bbuy_products\n"
   ]
  },
  {
   "cell_type": "code",
   "execution_count": 13,
   "metadata": {},
   "outputs": [
    {
     "name": "stdout",
     "output_type": "stream",
     "text": [
      "{\"acknowledged\":true,\"shards_acknowledged\":true,\"index\":\"bbuy_products\"}"
     ]
    }
   ],
   "source": [
    "!curl -k -X PUT -u admin:admin \"https://localhost:9200/bbuy_products\" -H 'Content-Type: application/json' -d @$WEEK1_PATH/bbuy_products.json"
   ]
  },
  {
   "cell_type": "code",
   "execution_count": 14,
   "metadata": {},
   "outputs": [
    {
     "name": "stdout",
     "output_type": "stream",
     "text": [
      "INFO:Indexing /Users/krzysztof.mioduszews/Development/Courses/corise-search-eng/datasets/product_data/products to bbuy_products with 16 workers, refresh_interval of -1 to host localhost with a maximum number of docs sent per file per worker of 1000 and 500 per batch.\n",
      "INFO:Done. 255077 were indexed in 2.909982067916667 minutes.  Total accumulated time spent in `bulk` indexing: 35.346926625566674 minutes\n"
     ]
    }
   ],
   "source": [
    "!python index.py -s $BBUY_DATA -w 16 -b 500 -m 1000"
   ]
  },
  {
   "attachments": {},
   "cell_type": "markdown",
   "metadata": {},
   "source": [
    "![Documents Indexed Rate](documents_indexed_rate_l1.png)"
   ]
  },
  {
   "attachments": {},
   "cell_type": "markdown",
   "metadata": {},
   "source": [
    "Re-indexing"
   ]
  },
  {
   "cell_type": "code",
   "execution_count": 15,
   "metadata": {},
   "outputs": [
    {
     "name": "stdout",
     "output_type": "stream",
     "text": [
      "INFO:Indexing /Users/krzysztof.mioduszews/Development/Courses/corise-search-eng/datasets/product_data/products to bbuy_products with 16 workers, refresh_interval of -1 to host localhost with a maximum number of docs sent per file per worker of 1000 and 500 per batch.\n",
      "INFO:Done. 255077 were indexed in 2.821483982833333 minutes.  Total accumulated time spent in `bulk` indexing: 34.966568804966656 minutes\n"
     ]
    }
   ],
   "source": [
    "!python index.py -s $BBUY_DATA -w 16 -b 500 -m 1000"
   ]
  },
  {
   "cell_type": "code",
   "execution_count": 17,
   "metadata": {},
   "outputs": [],
   "source": [
    "os.environ[\"BBUY_QUERIES\"] = \"/Users/krzysztof.mioduszews/Development/Courses/corise-search-eng/datasets/\""
   ]
  },
  {
   "cell_type": "code",
   "execution_count": null,
   "metadata": {},
   "outputs": [],
   "source": [
    "!python query.py -q $BBUY_QUERIES/train.csv -w 4 -m 25000"
   ]
  },
  {
   "attachments": {},
   "cell_type": "markdown",
   "metadata": {},
   "source": [
    "\n",
    "```bash\n",
    "# truncated output\n",
    "\n",
    "INFO:Loading query file from /Users/krzysztof.mioduszews/Development/Courses/corise-search-eng/datasets//train.csv and using seed 84 for worker: 1\n",
    "INFO:Loading query file from /Users/krzysztof.mioduszews/Development/Courses/corise-search-eng/datasets//train.csv and using seed 126 for worker: 2\n",
    "INFO:Loading query file from /Users/krzysztof.mioduszews/Development/Courses/corise-search-eng/datasets//train.csv and using seed 168 for worker: 3\n",
    "INFO:Loading query file from /Users/krzysztof.mioduszews/Development/Courses/corise-search-eng/datasets//train.csv and using seed 42 for worker: 0\n",
    "INFO:WN: 0: Running queries, checking in every 1000 queries:\n",
    "INFO:WN: 1: Running queries, checking in every 1000 queries:\n",
    "INFO:WN: 2: Running queries, checking in every 1000 queries:\n",
    "INFO:WN: 3: Running queries, checking in every 1000 queries:\n",
    "\n",
    "# ...\n",
    "\n",
    "^C\n",
    "\n",
    "Caught SIGINT. Shutting down workers...\n",
    "\n",
    "WARNING:WN: 0: Failed to process query: Switchfoot\n",
    "WARNING:WN: 3: Failed to process query: OnlineMidnightSale_Car_GPS\n",
    "WARNING:WN: 1: Failed to process query: 2398896 2402035 5386263 5386272 6804112 8579932 8589878 9374278 9650424\n",
    "WARNING:WN: 2: Failed to process query: car system\n",
    "INFO:WN: 0: Stopped early.\n",
    "INFO:WN: 3: Stopped early.\n",
    "INFO:WN: 1: Stopped early.\n",
    "INFO:WN: 2: Stopped early.\n",
    "INFO:Query worker finished in time: 8.79507190305\n",
    "INFO:Query worker finished in time: 8.795107660833335\n",
    "INFO:Query worker finished in time: 8.795038516983334\n",
    "INFO:Query worker finished in time: 8.795067490816667\n",
    "```"
   ]
  },
  {
   "attachments": {},
   "cell_type": "markdown",
   "metadata": {},
   "source": [
    "Interrupted above after 8 minutes - observed similar bahaviour as in project meterials.\n",
    "![Search Query Rate](search_query_rate_l1.png)\n",
    "![Thread Pools](thread_pools_and_the_jvm_1.png)\n"
   ]
  },
  {
   "attachments": {},
   "cell_type": "markdown",
   "metadata": {},
   "source": [
    "## Level 2"
   ]
  },
  {
   "attachments": {},
   "cell_type": "markdown",
   "metadata": {},
   "source": [
    "### CPU 1 -> 2"
   ]
  },
  {
   "cell_type": "code",
   "execution_count": 20,
   "metadata": {},
   "outputs": [
    {
     "name": "stdout",
     "output_type": "stream",
     "text": [
      "INFO:Indexing /Users/krzysztof.mioduszews/Development/Courses/corise-search-eng/datasets/product_data/products to bbuy_products with 16 workers, refresh_interval of -1 to host localhost with a maximum number of docs sent per file per worker of 1000 and 500 per batch.\n",
      "INFO:Done. 255077 were indexed in 2.7120400490833334 minutes.  Total accumulated time spent in `bulk` indexing: 22.36851046428335 minutes\n"
     ]
    }
   ],
   "source": [
    "!python index.py -s $BBUY_DATA -w 16 -b 500 -m 1000"
   ]
  },
  {
   "attachments": {},
   "cell_type": "markdown",
   "metadata": {},
   "source": [
    "A bit quicker, we're going above 1.5K, but not much.\n",
    "![documents_indexed_rate_l2_cpu2.png](documents_indexed_rate_l2_cpu2.png)"
   ]
  },
  {
   "cell_type": "code",
   "execution_count": null,
   "metadata": {},
   "outputs": [],
   "source": [
    "!python query.py -q $BBUY_QUERIES/train.csv -w 4 -m 25000"
   ]
  },
  {
   "cell_type": "code",
   "execution_count": null,
   "metadata": {},
   "outputs": [],
   "source": [
    "# Truncated"
   ]
  },
  {
   "attachments": {},
   "cell_type": "markdown",
   "metadata": {},
   "source": [
    "Intersting results. Considerable boost to performance - almost 3x QPS with 3 threads active.\n",
    "\n",
    "![QPS L2 2 CPU](search_query_rate_l2_cpu2.png)\n",
    "![Threads L2 2 CPU](thread_pools_and_the_jvm_l2_cpu2.png)"
   ]
  },
  {
   "attachments": {},
   "cell_type": "markdown",
   "metadata": {},
   "source": [
    "### CPU 2 -> 4"
   ]
  },
  {
   "cell_type": "code",
   "execution_count": 22,
   "metadata": {},
   "outputs": [
    {
     "name": "stdout",
     "output_type": "stream",
     "text": [
      "INFO:Indexing /Users/krzysztof.mioduszews/Development/Courses/corise-search-eng/datasets/product_data/products to bbuy_products with 16 workers, refresh_interval of -1 to host localhost with a maximum number of docs sent per file per worker of 1000 and 500 per batch.\n",
      "INFO:Done. 255077 were indexed in 2.3615369848666665 minutes.  Total accumulated time spent in `bulk` indexing: 19.266531507616673 minutes\n"
     ]
    }
   ],
   "source": [
    "!python index.py -s $BBUY_DATA -w 16 -b 500 -m 1000"
   ]
  },
  {
   "attachments": {},
   "cell_type": "markdown",
   "metadata": {},
   "source": [
    "Once again quicker, but not groundbreaking. 2k DPS more easily achieved.\n",
    "\n",
    "![DPS L2 CPU 4](dps_l2_cpu4.png)"
   ]
  },
  {
   "cell_type": "code",
   "execution_count": null,
   "metadata": {},
   "outputs": [],
   "source": [
    "!python query.py -q $BBUY_QUERIES/train.csv -w 4 -m 25000"
   ]
  },
  {
   "cell_type": "code",
   "execution_count": 24,
   "metadata": {},
   "outputs": [],
   "source": [
    "# Truncated"
   ]
  },
  {
   "attachments": {},
   "cell_type": "markdown",
   "metadata": {},
   "source": [
    "A bit of improvement, we're going above 200 QPS. Overall it's not that dramatic as in CPU 1 -> CPU 2 case. It seems that GC is somehow blocking whole thread pool (4 threads) utilization.\n",
    "\n",
    "![QPS L2 CPU 4](qps_l2_cpu4.png)\n",
    "![Thread L2 CPU 4](threads_l2_cpu4.png)"
   ]
  },
  {
   "attachments": {},
   "cell_type": "markdown",
   "metadata": {},
   "source": [
    "### CPU 4 -> CPU 1, MEM 2 GB -> MEM 4 GB\n",
    "\n",
    "Odd, but restarting opensearch-node1 wasn't enough to actually change Xms/Xmx. I had to stop everything in docker desktop, start it once again and re-install prometheus-exported plugin"
   ]
  },
  {
   "cell_type": "code",
   "execution_count": 25,
   "metadata": {},
   "outputs": [
    {
     "name": "stdout",
     "output_type": "stream",
     "text": [
      "INFO:Indexing /Users/krzysztof.mioduszews/Development/Courses/corise-search-eng/datasets/product_data/products to bbuy_products with 16 workers, refresh_interval of -1 to host localhost with a maximum number of docs sent per file per worker of 1000 and 500 per batch.\n",
      "INFO:Done. 255077 were indexed in 2.99769373565 minutes.  Total accumulated time spent in `bulk` indexing: 35.26300945466666 minutes\n"
     ]
    }
   ],
   "source": [
    "!python index.py -s $BBUY_DATA -w 16 -b 500 -m 1000"
   ]
  },
  {
   "attachments": {},
   "cell_type": "markdown",
   "metadata": {},
   "source": [
    "The worst run so far. CPU is probably the limiting factor here. Thus we won't see much gains from adding more memory on 1 CPU.\n",
    "\n",
    "![DPS L2 MEM 4](dps_l2_mem4.png)\n",
    "\n"
   ]
  },
  {
   "cell_type": "code",
   "execution_count": null,
   "metadata": {},
   "outputs": [],
   "source": [
    "!python query.py -q $BBUY_QUERIES/train.csv -w 4 -m 25000"
   ]
  },
  {
   "cell_type": "code",
   "execution_count": 27,
   "metadata": {},
   "outputs": [],
   "source": [
    "# Truncated"
   ]
  },
  {
   "attachments": {},
   "cell_type": "markdown",
   "metadata": {},
   "source": [
    "A bit unexpected - but makes sense. We did get a performance boost (roughly 2x QPS), due to better threadpool utilization - GC pauses do not affect search threads. So far (6 minutes) no GC seconds - visible on metrics.\n",
    "\n",
    "![QPS L2 MEM 4](qps_l2_mem4.png)\n",
    "![Threads L2 MEM 4](thread_l2_mem4.png)"
   ]
  },
  {
   "attachments": {},
   "cell_type": "markdown",
   "metadata": {},
   "source": [
    "### CPU 1 -> CPU 2, MEM 4\n",
    "I assume we won't get much more gain from increasing only memory. As in case of DPS we've already hit the limit. We could get a bit more QPS with higher memory (we would probably have a constant search thread pool size of 2) but i'm geussing it's not worth it. Thus we're going with more CPU"
   ]
  },
  {
   "cell_type": "code",
   "execution_count": 29,
   "metadata": {},
   "outputs": [
    {
     "name": "stdout",
     "output_type": "stream",
     "text": [
      "INFO:Indexing /Users/krzysztof.mioduszews/Development/Courses/corise-search-eng/datasets/product_data/products to bbuy_products with 16 workers, refresh_interval of -1 to host localhost with a maximum number of docs sent per file per worker of 1000 and 500 per batch.\n",
      "INFO:Done. 255077 were indexed in 2.3288495466 minutes.  Total accumulated time spent in `bulk` indexing: 8.634466537999998 minutes\n"
     ]
    }
   ],
   "source": [
    "!python index.py -s $BBUY_DATA -w 16 -b 500 -m 1000"
   ]
  },
  {
   "attachments": {},
   "cell_type": "markdown",
   "metadata": {},
   "source": [
    "The quickest so far, (previouse record - 4CPU)\n",
    "\n",
    "![DPS L2 CPU 2, MEM 4](dps_l2_cpu2_mem4.png)"
   ]
  },
  {
   "cell_type": "code",
   "execution_count": null,
   "metadata": {},
   "outputs": [],
   "source": [
    "!python query.py -q $BBUY_QUERIES/train.csv -w 4 -m 25000"
   ]
  },
  {
   "cell_type": "code",
   "execution_count": 31,
   "metadata": {},
   "outputs": [],
   "source": [
    "# truncated"
   ]
  },
  {
   "attachments": {},
   "cell_type": "markdown",
   "metadata": {},
   "source": [
    "Best so far. We're reaching 250 QPS easily.\n",
    "\n",
    "![QPS L2 CPU 2, MEM 4](qps_l2_cpu2_mem4.png)\n",
    "![Threads L2 CPU 2, MEM 4](threads_l2_cpu2_mem4.png)"
   ]
  },
  {
   "attachments": {},
   "cell_type": "markdown",
   "metadata": {},
   "source": [
    "### CPU 4, MEM 4\n",
    "Let's add more CPU"
   ]
  },
  {
   "cell_type": "code",
   "execution_count": 32,
   "metadata": {},
   "outputs": [
    {
     "name": "stdout",
     "output_type": "stream",
     "text": [
      "INFO:Indexing /Users/krzysztof.mioduszews/Development/Courses/corise-search-eng/datasets/product_data/products to bbuy_products with 16 workers, refresh_interval of -1 to host localhost with a maximum number of docs sent per file per worker of 1000 and 500 per batch.\n",
      "INFO:Done. 255077 were indexed in 2.371222411416667 minutes.  Total accumulated time spent in `bulk` indexing: 9.2627948028 minutes\n"
     ]
    }
   ],
   "source": [
    "!python index.py -s $BBUY_DATA -w 16 -b 500 -m 1000"
   ]
  },
  {
   "attachments": {},
   "cell_type": "markdown",
   "metadata": {},
   "source": [
    "Not much difference here. Skipping the graph."
   ]
  },
  {
   "cell_type": "code",
   "execution_count": null,
   "metadata": {},
   "outputs": [],
   "source": [
    "!python query.py -q $BBUY_QUERIES/train.csv -w 4 -m 25000"
   ]
  },
  {
   "cell_type": "code",
   "execution_count": 34,
   "metadata": {},
   "outputs": [],
   "source": [
    "# truncated"
   ]
  },
  {
   "attachments": {},
   "cell_type": "markdown",
   "metadata": {},
   "source": [
    "Interesting but we're not able to go above 250 QPS, CPU utilization is around 40%. What would be the limiting factor here?\n",
    "\n",
    "![QPS L2 CPU 4, MEM 4](qps_l2_cpu4_mem4.png)\n",
    "![Thread L2 CPU 4, MEM 4](thread_l2_cpu4_mem4.png)"
   ]
  },
  {
   "attachments": {},
   "cell_type": "markdown",
   "metadata": {},
   "source": [
    "### CPU 4, MEM 8"
   ]
  },
  {
   "cell_type": "code",
   "execution_count": 36,
   "metadata": {},
   "outputs": [
    {
     "name": "stdout",
     "output_type": "stream",
     "text": [
      "INFO:Indexing /Users/krzysztof.mioduszews/Development/Courses/corise-search-eng/datasets/product_data/products to bbuy_products with 16 workers, refresh_interval of -1 to host localhost with a maximum number of docs sent per file per worker of 1000 and 500 per batch.\n",
      "INFO:Done. 255077 were indexed in 2.287822636583334 minutes.  Total accumulated time spent in `bulk` indexing: 7.345726475716666 minutes\n"
     ]
    }
   ],
   "source": [
    "!python index.py -s $BBUY_DATA -w 16 -b 500 -m 1000"
   ]
  },
  {
   "attachments": {},
   "cell_type": "markdown",
   "metadata": {},
   "source": [
    "The quickest one so far. But the change is pretty small (2.28 vs 2.32 CPU 2, MEM 4)"
   ]
  },
  {
   "cell_type": "code",
   "execution_count": null,
   "metadata": {},
   "outputs": [],
   "source": [
    "!python query.py -q $BBUY_QUERIES/train.csv -w 4 -m 25000"
   ]
  },
  {
   "attachments": {},
   "cell_type": "markdown",
   "metadata": {},
   "source": [
    "And we have a winner. We've reached 300 QPS. So we had to double the RAM and CPUs to add 50 QPS.\n",
    "\n",
    "![QPS L2 CPU 4, MEM 4](qps_l2_cpu4_mem8.png)\n",
    "![Threads L2 CPU 4, MEM 4](thread_l2_cpu4_mem8.png)"
   ]
  },
  {
   "attachments": {},
   "cell_type": "markdown",
   "metadata": {},
   "source": [
    "## Level 3\n",
    "Going with the last config"
   ]
  },
  {
   "cell_type": "code",
   "execution_count": 39,
   "metadata": {},
   "outputs": [],
   "source": [
    "# running query.py in a separate shell"
   ]
  },
  {
   "cell_type": "code",
   "execution_count": null,
   "metadata": {},
   "outputs": [],
   "source": [
    "!python index.py -s $BBUY_DATA -w 16 -b 500 -m 1000"
   ]
  },
  {
   "cell_type": "code",
   "execution_count": 40,
   "metadata": {},
   "outputs": [
    {
     "name": "stdout",
     "output_type": "stream",
     "text": [
      "INFO:Indexing /Users/krzysztof.mioduszews/Development/Courses/corise-search-eng/datasets/product_data/products to bbuy_products with 16 workers, refresh_interval of -1 to host localhost with a maximum number of docs sent per file per worker of 1000 and 500 per batch.\n",
      "INFO:Done. 255077 were indexed in 2.9295400737333335 minutes.  Total accumulated time spent in `bulk` indexing: 14.623565470449996 minutes\n"
     ]
    }
   ],
   "source": [
    "# starting indexing once we have 300 QPS\n",
    "!python index.py -s $BBUY_DATA -w 16 -b 500 -m 1000"
   ]
  },
  {
   "attachments": {},
   "cell_type": "markdown",
   "metadata": {},
   "source": [
    "QPS dropped to ~50 during indexing. Indexing time did not change that dramatically, DPS ~1.5K.\n",
    "\n",
    "![QPS L3](qps_l3.png)\n",
    "![Threads L3](threads_l3.png)\n",
    "![DPS L3](dps_l3.png)"
   ]
  },
  {
   "attachments": {},
   "cell_type": "markdown",
   "metadata": {},
   "source": []
  },
  {
   "attachments": {},
   "cell_type": "markdown",
   "metadata": {},
   "source": []
  }
 ],
 "metadata": {
  "kernelspec": {
   "display_name": ".venv",
   "language": "python",
   "name": "python3"
  },
  "language_info": {
   "codemirror_mode": {
    "name": "ipython",
    "version": 3
   },
   "file_extension": ".py",
   "mimetype": "text/x-python",
   "name": "python",
   "nbconvert_exporter": "python",
   "pygments_lexer": "ipython3",
   "version": "3.9.16"
  },
  "orig_nbformat": 4
 },
 "nbformat": 4,
 "nbformat_minor": 2
}
