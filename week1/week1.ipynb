{
 "cells": [
  {
   "cell_type": "code",
   "execution_count": 46,
   "metadata": {},
   "outputs": [],
   "source": [
    "import os"
   ]
  },
  {
   "cell_type": "code",
   "execution_count": 51,
   "metadata": {},
   "outputs": [],
   "source": [
    "os.environ[\"HOST\"] = \"localhost\"\n",
    "os.environ[\"BBUY_DATA\"] = \"/Users/krzysztof.mioduszews/Development/Courses/corise-search-eng/datasets/product_data/products\"\n",
    "os.environ[\"WEEK1_PATH\"] = \"/Users/krzysztof.mioduszews/Development/Courses/corise-search-eng/search_engineering/week1/\""
   ]
  },
  {
   "cell_type": "code",
   "execution_count": 48,
   "metadata": {},
   "outputs": [
    {
     "name": "stdout",
     "output_type": "stream",
     "text": [
      "{\"acknowledged\":true}"
     ]
    }
   ],
   "source": [
    "!curl -k -X DELETE -u admin:admin https://localhost:9200/bbuy_products"
   ]
  },
  {
   "cell_type": "code",
   "execution_count": 49,
   "metadata": {},
   "outputs": [
    {
     "name": "stdout",
     "output_type": "stream",
     "text": [
      "{\"acknowledged\":true,\"shards_acknowledged\":true,\"index\":\"bbuy_products\"}"
     ]
    }
   ],
   "source": [
    "!curl -k -X PUT -u admin:admin \"https://$HOST:9200/bbuy_products\" -H 'Content-Type: application/json' -d @$WEEK1_PATH/bbuy_products.json"
   ]
  },
  {
   "cell_type": "code",
   "execution_count": 52,
   "metadata": {},
   "outputs": [
    {
     "name": "stdout",
     "output_type": "stream",
     "text": [
      "INFO:Indexing /Users/krzysztof.mioduszews/Development/Courses/corise-search-eng/datasets/product_data/products to bbuy_products with 8 workers, refresh_interval of -1 to host localhost with a maximum number of docs sent per file per worker of 200000 and 200 per batch.\n",
      "INFO:Done. 1275077 were indexed in 8.357833230733334 minutes.  Total accumulated time spent in `bulk` indexing: 19.17462709005001 minutes\n"
     ]
    }
   ],
   "source": [
    "!python index.py -s $BBUY_DATA"
   ]
  },
  {
   "cell_type": "code",
   "execution_count": 53,
   "metadata": {},
   "outputs": [
    {
     "name": "stdout",
     "output_type": "stream",
     "text": [
      "{\"acknowledged\":true}{\"acknowledged\":true,\"shards_acknowledged\":true,\"index\":\"bbuy_products\"}"
     ]
    }
   ],
   "source": [
    "!curl -k -X DELETE -u admin:admin https://localhost:9200/bbuy_products\n",
    "!curl -k -X PUT -u admin:admin \"https://$HOST:9200/bbuy_products\" -H 'Content-Type: application/json' -d @$WEEK1_PATH/bbuy_products_no_map.json"
   ]
  },
  {
   "cell_type": "code",
   "execution_count": 54,
   "metadata": {},
   "outputs": [
    {
     "name": "stdout",
     "output_type": "stream",
     "text": [
      "INFO:Indexing /Users/krzysztof.mioduszews/Development/Courses/corise-search-eng/datasets/product_data/products to bbuy_products with 8 workers, refresh_interval of -1 to host localhost with a maximum number of docs sent per file per worker of 200000 and 200 per batch.\n",
      "INFO:Done. 1275077 were indexed in 7.730797419333333 minutes.  Total accumulated time spent in `bulk` indexing: 16.041670874416692 minutes\n"
     ]
    }
   ],
   "source": [
    "!python index.py -s $BBUY_DATA"
   ]
  },
  {
   "attachments": {},
   "cell_type": "markdown",
   "metadata": {},
   "source": [
    "## Refresh interval"
   ]
  },
  {
   "cell_type": "code",
   "execution_count": 55,
   "metadata": {},
   "outputs": [
    {
     "name": "stdout",
     "output_type": "stream",
     "text": [
      "{\"acknowledged\":true}{\"acknowledged\":true,\"shards_acknowledged\":true,\"index\":\"bbuy_products\"}"
     ]
    }
   ],
   "source": [
    "!curl -k -X DELETE -u admin:admin https://localhost:9200/bbuy_products\n",
    "!curl -k -X PUT -u admin:admin \"https://$HOST:9200/bbuy_products\" -H 'Content-Type: application/json' -d @$WEEK1_PATH/bbuy_products_no_map.json"
   ]
  },
  {
   "cell_type": "code",
   "execution_count": 56,
   "metadata": {},
   "outputs": [
    {
     "name": "stdout",
     "output_type": "stream",
     "text": [
      "INFO:Indexing /Users/krzysztof.mioduszews/Development/Courses/corise-search-eng/datasets/product_data/products to bbuy_products with 8 workers, refresh_interval of 1s to host localhost with a maximum number of docs sent per file per worker of 200000 and 200 per batch.\n",
      "INFO:Done. 1275077 were indexed in 7.85844089345 minutes.  Total accumulated time spent in `bulk` indexing: 16.43504127871672 minutes\n"
     ]
    }
   ],
   "source": [
    "!python index.py -s $BBUY_DATA --refresh_interval 1s"
   ]
  },
  {
   "cell_type": "code",
   "execution_count": 57,
   "metadata": {},
   "outputs": [
    {
     "name": "stdout",
     "output_type": "stream",
     "text": [
      "{\"acknowledged\":true}{\"acknowledged\":true,\"shards_acknowledged\":true,\"index\":\"bbuy_products\"}"
     ]
    }
   ],
   "source": [
    "!curl -k -X DELETE -u admin:admin https://localhost:9200/bbuy_products\n",
    "!curl -k -X PUT -u admin:admin \"https://$HOST:9200/bbuy_products\" -H 'Content-Type: application/json' -d @$WEEK1_PATH/bbuy_products_no_map.json"
   ]
  },
  {
   "cell_type": "code",
   "execution_count": 58,
   "metadata": {},
   "outputs": [
    {
     "name": "stdout",
     "output_type": "stream",
     "text": [
      "INFO:Indexing /Users/krzysztof.mioduszews/Development/Courses/corise-search-eng/datasets/product_data/products to bbuy_products with 8 workers, refresh_interval of 60s to host localhost with a maximum number of docs sent per file per worker of 200000 and 200 per batch.\n",
      "INFO:Done. 1275077 were indexed in 7.5322712346000005 minutes.  Total accumulated time spent in `bulk` indexing: 15.932759269533324 minutes\n"
     ]
    }
   ],
   "source": [
    "!python index.py -s $BBUY_DATA --refresh_interval 60s"
   ]
  },
  {
   "attachments": {},
   "cell_type": "markdown",
   "metadata": {},
   "source": [
    "## Batch Size"
   ]
  },
  {
   "cell_type": "code",
   "execution_count": 63,
   "metadata": {},
   "outputs": [
    {
     "name": "stdout",
     "output_type": "stream",
     "text": [
      "{\"acknowledged\":true}{\"acknowledged\":true,\"shards_acknowledged\":true,\"index\":\"bbuy_products\"}"
     ]
    }
   ],
   "source": [
    "!curl -k -X DELETE -u admin:admin https://localhost:9200/bbuy_products\n",
    "!curl -k -X PUT -u admin:admin \"https://$HOST:9200/bbuy_products\" -H 'Content-Type: application/json' -d @$WEEK1_PATH/bbuy_products_no_map.json"
   ]
  },
  {
   "cell_type": "code",
   "execution_count": 64,
   "metadata": {},
   "outputs": [
    {
     "name": "stdout",
     "output_type": "stream",
     "text": [
      "INFO:Indexing /Users/krzysztof.mioduszews/Development/Courses/corise-search-eng/datasets/product_data/products to bbuy_products with 8 workers, refresh_interval of -1 to host localhost with a maximum number of docs sent per file per worker of 200000 and 400 per batch.\n",
      "INFO:{'bbuy_products': {'settings': {'index': {'refresh_interval': '-1', 'number_of_shards': '1', 'provided_name': 'bbuy_products', 'creation_date': '1682893473998', 'analysis': {'filter': {'smarter_hyphens_filter': {'catenate_all': 'true', 'type': 'word_delimiter_graph', 'catenate_words': 'true'}}, 'analyzer': {'smarter_hyphens': {'filter': ['smarter_hyphens_filter', 'lowercase'], 'tokenizer': 'smarter_hyphens_tokenizer'}}, 'tokenizer': {'smarter_hyphens_tokenizer': {'type': 'char_group', 'tokenize_on_chars': ['whitespace', '\\n']}}}, 'number_of_replicas': '1', 'uuid': 'NSERna6mT0uCggBVUZUGOA', 'version': {'created': '136277827'}}}}}\n",
      "INFO:Done. 1275077 were indexed in 7.528358382833334 minutes.  Total accumulated time spent in `bulk` indexing: 16.035068257683324 minutes\n"
     ]
    }
   ],
   "source": [
    "!python index.py -s $BBUY_DATA --batch_size 400"
   ]
  },
  {
   "cell_type": "code",
   "execution_count": 65,
   "metadata": {},
   "outputs": [
    {
     "name": "stdout",
     "output_type": "stream",
     "text": [
      "{\"acknowledged\":true}{\"acknowledged\":true,\"shards_acknowledged\":true,\"index\":\"bbuy_products\"}"
     ]
    }
   ],
   "source": [
    "!curl -k -X DELETE -u admin:admin https://localhost:9200/bbuy_products\n",
    "!curl -k -X PUT -u admin:admin \"https://$HOST:9200/bbuy_products\" -H 'Content-Type: application/json' -d @$WEEK1_PATH/bbuy_products_no_map.json"
   ]
  },
  {
   "cell_type": "code",
   "execution_count": 66,
   "metadata": {},
   "outputs": [
    {
     "name": "stdout",
     "output_type": "stream",
     "text": [
      "INFO:Indexing /Users/krzysztof.mioduszews/Development/Courses/corise-search-eng/datasets/product_data/products to bbuy_products with 8 workers, refresh_interval of -1 to host localhost with a maximum number of docs sent per file per worker of 200000 and 800 per batch.\n",
      "INFO:Done. 1275077 were indexed in 7.404229448083333 minutes.  Total accumulated time spent in `bulk` indexing: 15.510093744050007 minutes\n"
     ]
    }
   ],
   "source": [
    "!python index.py -s $BBUY_DATA --batch_size 800"
   ]
  },
  {
   "cell_type": "code",
   "execution_count": 72,
   "metadata": {},
   "outputs": [
    {
     "name": "stdout",
     "output_type": "stream",
     "text": [
      "{\"acknowledged\":true}{\"acknowledged\":true,\"shards_acknowledged\":true,\"index\":\"bbuy_products\"}"
     ]
    }
   ],
   "source": [
    "!curl -k -X DELETE -u admin:admin https://localhost:9200/bbuy_products\n",
    "!curl -k -X PUT -u admin:admin \"https://$HOST:9200/bbuy_products\" -H 'Content-Type: application/json' -d @$WEEK1_PATH/bbuy_products_no_map.json"
   ]
  },
  {
   "cell_type": "code",
   "execution_count": 73,
   "metadata": {},
   "outputs": [
    {
     "name": "stdout",
     "output_type": "stream",
     "text": [
      "INFO:Indexing /Users/krzysztof.mioduszews/Development/Courses/corise-search-eng/datasets/product_data/products to bbuy_products with 8 workers, refresh_interval of -1 to host localhost with a maximum number of docs sent per file per worker of 200000 and 1600 per batch.\n",
      "INFO:Done. 1275077 were indexed in 7.213090362416667 minutes.  Total accumulated time spent in `bulk` indexing: 15.298561930150004 minutes\n"
     ]
    }
   ],
   "source": [
    "!python index.py -s $BBUY_DATA --batch_size 1600"
   ]
  },
  {
   "cell_type": "code",
   "execution_count": 74,
   "metadata": {},
   "outputs": [
    {
     "name": "stdout",
     "output_type": "stream",
     "text": [
      "{\"acknowledged\":true}{\"acknowledged\":true,\"shards_acknowledged\":true,\"index\":\"bbuy_products\"}"
     ]
    }
   ],
   "source": [
    "!curl -k -X DELETE -u admin:admin https://localhost:9200/bbuy_products\n",
    "!curl -k -X PUT -u admin:admin \"https://$HOST:9200/bbuy_products\" -H 'Content-Type: application/json' -d @$WEEK1_PATH/bbuy_products_no_map.json"
   ]
  },
  {
   "cell_type": "code",
   "execution_count": 75,
   "metadata": {},
   "outputs": [
    {
     "name": "stdout",
     "output_type": "stream",
     "text": [
      "INFO:Indexing /Users/krzysztof.mioduszews/Development/Courses/corise-search-eng/datasets/product_data/products to bbuy_products with 8 workers, refresh_interval of -1 to host localhost with a maximum number of docs sent per file per worker of 200000 and 3200 per batch.\n",
      "INFO:Done. 1275077 were indexed in 6.6905944281166665 minutes.  Total accumulated time spent in `bulk` indexing: 13.832654068050006 minutes\n"
     ]
    }
   ],
   "source": [
    "!python index.py -s $BBUY_DATA --batch_size 3200"
   ]
  },
  {
   "cell_type": "code",
   "execution_count": 76,
   "metadata": {},
   "outputs": [
    {
     "name": "stdout",
     "output_type": "stream",
     "text": [
      "{\"acknowledged\":true}{\"acknowledged\":true,\"shards_acknowledged\":true,\"index\":\"bbuy_products\"}"
     ]
    }
   ],
   "source": [
    "!curl -k -X DELETE -u admin:admin https://localhost:9200/bbuy_products\n",
    "!curl -k -X PUT -u admin:admin \"https://$HOST:9200/bbuy_products\" -H 'Content-Type: application/json' -d @$WEEK1_PATH/bbuy_products_no_map.json"
   ]
  },
  {
   "cell_type": "code",
   "execution_count": 77,
   "metadata": {},
   "outputs": [
    {
     "name": "stdout",
     "output_type": "stream",
     "text": [
      "INFO:Indexing /Users/krzysztof.mioduszews/Development/Courses/corise-search-eng/datasets/product_data/products to bbuy_products with 8 workers, refresh_interval of -1 to host localhost with a maximum number of docs sent per file per worker of 200000 and 5000 per batch.\n",
      "INFO:Done. 1275077 were indexed in 6.738769426100001 minutes.  Total accumulated time spent in `bulk` indexing: 13.737840341183324 minutes\n"
     ]
    }
   ],
   "source": [
    "!python index.py -s $BBUY_DATA --batch_size 5000"
   ]
  },
  {
   "attachments": {},
   "cell_type": "markdown",
   "metadata": {},
   "source": [
    "## Workers"
   ]
  },
  {
   "cell_type": "code",
   "execution_count": 78,
   "metadata": {},
   "outputs": [
    {
     "name": "stdout",
     "output_type": "stream",
     "text": [
      "{\"acknowledged\":true}{\"acknowledged\":true,\"shards_acknowledged\":true,\"index\":\"bbuy_products\"}INFO:Indexing /Users/krzysztof.mioduszews/Development/Courses/corise-search-eng/datasets/product_data/products to bbuy_products with 8 workers, refresh_interval of -1 to host localhost with a maximum number of docs sent per file per worker of 200000 and 200 per batch.\n",
      "INFO:Done. 1275077 were indexed in 6.705167688416666 minutes.  Total accumulated time spent in `bulk` indexing: 14.25258553211668 minutes\n"
     ]
    }
   ],
   "source": [
    "!curl -k -X DELETE -u admin:admin https://localhost:9200/bbuy_products\n",
    "!curl -k -X PUT -u admin:admin \"https://$HOST:9200/bbuy_products\" -H 'Content-Type: application/json' -d @$WEEK1_PATH/bbuy_products_no_map.json\n",
    "!python index.py -s $BBUY_DATA --workers 8"
   ]
  },
  {
   "cell_type": "code",
   "execution_count": 79,
   "metadata": {},
   "outputs": [
    {
     "name": "stdout",
     "output_type": "stream",
     "text": [
      "{\"acknowledged\":true}{\"acknowledged\":true,\"shards_acknowledged\":true,\"index\":\"bbuy_products\"}INFO:Indexing /Users/krzysztof.mioduszews/Development/Courses/corise-search-eng/datasets/product_data/products to bbuy_products with 16 workers, refresh_interval of -1 to host localhost with a maximum number of docs sent per file per worker of 200000 and 200 per batch.\n",
      "INFO:Done. 1275077 were indexed in 6.649031422466667 minutes.  Total accumulated time spent in `bulk` indexing: 25.435553647416654 minutes\n"
     ]
    }
   ],
   "source": [
    "!curl -k -X DELETE -u admin:admin https://localhost:9200/bbuy_products\n",
    "!curl -k -X PUT -u admin:admin \"https://$HOST:9200/bbuy_products\" -H 'Content-Type: application/json' -d @$WEEK1_PATH/bbuy_products_no_map.json\n",
    "!python index.py -s $BBUY_DATA --workers 16"
   ]
  },
  {
   "cell_type": "code",
   "execution_count": 80,
   "metadata": {},
   "outputs": [
    {
     "name": "stdout",
     "output_type": "stream",
     "text": [
      "{\"acknowledged\":true}{\"acknowledged\":true,\"shards_acknowledged\":true,\"index\":\"bbuy_products\"}INFO:Indexing /Users/krzysztof.mioduszews/Development/Courses/corise-search-eng/datasets/product_data/products to bbuy_products with 32 workers, refresh_interval of -1 to host localhost with a maximum number of docs sent per file per worker of 200000 and 200 per batch.\n",
      "INFO:Done. 1275077 were indexed in 6.88349974475 minutes.  Total accumulated time spent in `bulk` indexing: 107.44906515589999 minutes\n"
     ]
    }
   ],
   "source": [
    "!curl -k -X DELETE -u admin:admin https://localhost:9200/bbuy_products\n",
    "!curl -k -X PUT -u admin:admin \"https://$HOST:9200/bbuy_products\" -H 'Content-Type: application/json' -d @$WEEK1_PATH/bbuy_products_no_map.json\n",
    "!python index.py -s $BBUY_DATA --workers 32"
   ]
  },
  {
   "cell_type": "code",
   "execution_count": 81,
   "metadata": {},
   "outputs": [
    {
     "name": "stdout",
     "output_type": "stream",
     "text": [
      "{\"acknowledged\":true}{\"acknowledged\":true,\"shards_acknowledged\":true,\"index\":\"bbuy_products\"}INFO:Indexing /Users/krzysztof.mioduszews/Development/Courses/corise-search-eng/datasets/product_data/products to bbuy_products with 64 workers, refresh_interval of -1 to host localhost with a maximum number of docs sent per file per worker of 200000 and 200 per batch.\n",
      "INFO:Done. 1275077 were indexed in 8.469051596 minutes.  Total accumulated time spent in `bulk` indexing: 369.44072579848313 minutes\n"
     ]
    }
   ],
   "source": [
    "!curl -k -X DELETE -u admin:admin https://localhost:9200/bbuy_products\n",
    "!curl -k -X PUT -u admin:admin \"https://$HOST:9200/bbuy_products\" -H 'Content-Type: application/json' -d @$WEEK1_PATH/bbuy_products_no_map.json\n",
    "!python index.py -s $BBUY_DATA --workers 64"
   ]
  },
  {
   "cell_type": "code",
   "execution_count": null,
   "metadata": {},
   "outputs": [],
   "source": []
  },
  {
   "attachments": {},
   "cell_type": "markdown",
   "metadata": {},
   "source": [
    "# Level 2"
   ]
  },
  {
   "attachments": {},
   "cell_type": "markdown",
   "metadata": {},
   "source": [
    "Choosing the quickest basing on the above experiments"
   ]
  },
  {
   "cell_type": "code",
   "execution_count": 82,
   "metadata": {},
   "outputs": [
    {
     "name": "stdout",
     "output_type": "stream",
     "text": [
      "{\"acknowledged\":true}{\"acknowledged\":true,\"shards_acknowledged\":true,\"index\":\"bbuy_products\"}INFO:Indexing /Users/krzysztof.mioduszews/Development/Courses/corise-search-eng/datasets/product_data/products to bbuy_products with 16 workers, refresh_interval of -1 to host localhost with a maximum number of docs sent per file per worker of 200000 and 3200 per batch.\n",
      "INFO:Done. 1275077 were indexed in 6.720035934449999 minutes.  Total accumulated time spent in `bulk` indexing: 28.22922717211667 minutes\n"
     ]
    }
   ],
   "source": [
    "!curl -k -X DELETE -u admin:admin https://localhost:9200/bbuy_products\n",
    "!curl -k -X PUT -u admin:admin \"https://$HOST:9200/bbuy_products\" -H 'Content-Type: application/json' -d @$WEEK1_PATH/bbuy_products.json\n",
    "!python index.py -s $BBUY_DATA --workers 16 --batch_size 3200\n"
   ]
  },
  {
   "cell_type": "code",
   "execution_count": 83,
   "metadata": {},
   "outputs": [],
   "source": [
    "os.environ[\"QUERY_FILE\"] = \"/Users/krzysztof.mioduszews/Development/Courses/corise-search-eng/datasets/train.csv\""
   ]
  },
  {
   "cell_type": "code",
   "execution_count": 87,
   "metadata": {},
   "outputs": [
    {
     "name": "stdout",
     "output_type": "stream",
     "text": [
      "INFO:Loading query file from /Users/krzysztof.mioduszews/Development/Courses/corise-search-eng/datasets/train.csv\n",
      "INFO:Running queries, checking in every 1000 queries:\n",
      "INFO:Finished running 50 queries in 0.031955578383333336 minutes\n"
     ]
    }
   ],
   "source": [
    "!python query.py --query_file $QUERY_FILE --max_queries 50"
   ]
  },
  {
   "cell_type": "code",
   "execution_count": 88,
   "metadata": {},
   "outputs": [
    {
     "name": "stdout",
     "output_type": "stream",
     "text": [
      "INFO:Loading query file from /Users/krzysztof.mioduszews/Development/Courses/corise-search-eng/datasets/train.csv\n",
      "INFO:Running queries, checking in every 1000 queries:\n",
      "INFO:Query: Bad teacher has 10 hits.\n",
      "INFO:Query: martin has 10 hits.\n",
      "INFO:Query: netgear n has 10 hits.\n",
      "INFO:Query: iPad case has 10 hits.\n",
      "INFO:Query: digital tv converter has 10 hits.\n",
      "INFO:Query: Bluetooth has 10 hits.\n",
      "INFO:Query: Xbox 360 battery charger has 10 hits.\n",
      "INFO:Query: Bose sound dock has 10 hits.\n",
      "INFO:Query: HP touchpad has 10 hits.\n",
      "INFO:Query: rechargeable batteries has 10 hits.\n",
      "INFO:Finished running 10000 queries in 3.4582738290833333 minutes\n"
     ]
    }
   ],
   "source": [
    "# baseline\n",
    "!python query.py --query_file $QUERY_FILE --max_queries 10000"
   ]
  },
  {
   "cell_type": "code",
   "execution_count": 89,
   "metadata": {},
   "outputs": [
    {
     "name": "stdout",
     "output_type": "stream",
     "text": [
      "INFO:Loading query file from /Users/krzysztof.mioduszews/Development/Courses/corise-search-eng/datasets/train.csv\n",
      "INFO:Running queries, checking in every 1000 queries:\n",
      "INFO:Query: Bad teacher has 10 hits.\n",
      "INFO:Query: martin has 10 hits.\n",
      "INFO:Query: netgear n has 10 hits.\n",
      "INFO:Query: iPad case has 10 hits.\n",
      "INFO:Query: digital tv converter has 10 hits.\n",
      "INFO:Query: Bluetooth has 10 hits.\n",
      "INFO:Query: Xbox 360 battery charger has 10 hits.\n",
      "INFO:Query: Bose sound dock has 10 hits.\n",
      "INFO:Query: HP touchpad has 10 hits.\n",
      "INFO:Query: rechargeable batteries has 10 hits.\n",
      "INFO:Finished running 10000 queries in 2.9127835107666664 minutes\n"
     ]
    }
   ],
   "source": [
    "# Change the name matching field to no longer be a fuzzy match.\n",
    "!python query.py --query_file $QUERY_FILE --max_queries 10000"
   ]
  },
  {
   "cell_type": "code",
   "execution_count": 90,
   "metadata": {},
   "outputs": [
    {
     "name": "stdout",
     "output_type": "stream",
     "text": [
      "INFO:Loading query file from /Users/krzysztof.mioduszews/Development/Courses/corise-search-eng/datasets/train.csv\n",
      "INFO:Running queries, checking in every 1000 queries:\n",
      "INFO:Query: Bad teacher has 10 hits.\n",
      "INFO:Query: martin has 10 hits.\n",
      "INFO:Query: netgear n has 10 hits.\n",
      "INFO:Query: iPad case has 10 hits.\n",
      "INFO:Query: digital tv converter has 10 hits.\n",
      "INFO:Query: Bluetooth has 10 hits.\n",
      "INFO:Query: Xbox 360 battery charger has 10 hits.\n",
      "INFO:Query: Bose sound dock has 10 hits.\n",
      "INFO:Query: HP touchpad has 10 hits.\n",
      "INFO:Query: rechargeable batteries has 10 hits.\n",
      "INFO:Finished running 10000 queries in 2.3099123163666664 minutes\n"
     ]
    }
   ],
   "source": [
    "# Drop the function scores\n",
    "!python query.py --query_file $QUERY_FILE --max_queries 10000"
   ]
  },
  {
   "cell_type": "code",
   "execution_count": 91,
   "metadata": {},
   "outputs": [
    {
     "name": "stdout",
     "output_type": "stream",
     "text": [
      "INFO:Loading query file from /Users/krzysztof.mioduszews/Development/Courses/corise-search-eng/datasets/train.csv\n",
      "INFO:Running queries, checking in every 1000 queries:\n",
      "INFO:Query: Bad teacher has 5 hits.\n",
      "INFO:Query: martin has 10 hits.\n",
      "INFO:Query: netgear n has 10 hits.\n",
      "INFO:Query: iPad case has 10 hits.\n",
      "INFO:Query: digital tv converter has 10 hits.\n",
      "INFO:Query: Bluetooth has 10 hits.\n",
      "INFO:Query: Bose sound dock has 10 hits.\n",
      "INFO:Query: HP touchpad has 10 hits.\n",
      "INFO:Query: rechargeable batteries has 10 hits.\n",
      "INFO:Finished running 10000 queries in 1.5999766889999998 minutes\n"
     ]
    }
   ],
   "source": [
    "# Drop every other matching function except the multi_match\n",
    "!python query.py --query_file $QUERY_FILE --max_queries 10000"
   ]
  },
  {
   "cell_type": "code",
   "execution_count": 92,
   "metadata": {},
   "outputs": [
    {
     "name": "stdout",
     "output_type": "stream",
     "text": [
      "INFO:Loading query file from /Users/krzysztof.mioduszews/Development/Courses/corise-search-eng/datasets/train.csv\n",
      "INFO:Running queries, checking in every 1000 queries:\n",
      "INFO:Query: Bad teacher has 5 hits.\n",
      "INFO:Query: martin has 10 hits.\n",
      "INFO:Query: netgear n has 10 hits.\n",
      "INFO:Query: iPad case has 10 hits.\n",
      "INFO:Query: digital tv converter has 8 hits.\n",
      "INFO:Query: Bluetooth has 10 hits.\n",
      "INFO:Query: HP touchpad has 10 hits.\n",
      "INFO:Query: rechargeable batteries has 10 hits.\n",
      "INFO:Finished running 10000 queries in 1.1511441008833332 minutes\n"
     ]
    }
   ],
   "source": [
    "# Last, but not least, change the multi_match to only search the name and shortDescription field.\n",
    "!python query.py --query_file $QUERY_FILE --max_queries 10000"
   ]
  }
 ],
 "metadata": {
  "kernelspec": {
   "display_name": ".venv",
   "language": "python",
   "name": "python3"
  },
  "language_info": {
   "codemirror_mode": {
    "name": "ipython",
    "version": 3
   },
   "file_extension": ".py",
   "mimetype": "text/x-python",
   "name": "python",
   "nbconvert_exporter": "python",
   "pygments_lexer": "ipython3",
   "version": "3.9.16"
  },
  "orig_nbformat": 4,
  "vscode": {
   "interpreter": {
    "hash": "98d7aaacbd016692470abc70657fea80fb7e19641b47e493ca7436590e488b93"
   }
  }
 },
 "nbformat": 4,
 "nbformat_minor": 2
}
