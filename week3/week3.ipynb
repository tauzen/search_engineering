{
 "cells": [
  {
   "attachments": {},
   "cell_type": "markdown",
   "metadata": {},
   "source": [
    "# Week 3"
   ]
  },
  {
   "cell_type": "code",
   "execution_count": 1,
   "metadata": {},
   "outputs": [
    {
     "name": "stdout",
     "output_type": "stream",
     "text": [
      "CONTAINER ID   IMAGE                                           COMMAND                  CREATED              STATUS                        PORTS                                                                NAMES\n",
      "9a38a3945315   grafana/grafana:9.4.7                           \"/run.sh\"                About a minute ago   Up About a minute             0.0.0.0:3000->3000/tcp                                               grafana\n",
      "29680e882146   prom/prometheus:v2.43.0                         \"/bin/prometheus --c…\"   About a minute ago   Up About a minute             0.0.0.0:9090->9090/tcp                                               prometheus\n",
      "2b444bf43c63   gcr.io/cadvisor/cadvisor:v0.47.1                \"/usr/bin/cadvisor -…\"   About a minute ago   Up About a minute (healthy)   0.0.0.0:8080->8080/tcp                                               cadvisor\n",
      "cd28a23ad1fc   opensearchproject/opensearch:2.6.0              \"./opensearch-docker…\"   4 hours ago          Up 5 minutes                  9200/tcp, 9300/tcp, 9600/tcp, 9650/tcp                               opensearch-node2\n",
      "036b175dc1e6   opensearchproject/opensearch-dashboards:2.6.0   \"./opensearch-dashbo…\"   4 hours ago          Up 4 hours                    0.0.0.0:5601->5601/tcp                                               opensearch-dashboards\n",
      "24b78c3b5169   opensearchproject/opensearch:2.6.0              \"./opensearch-docker…\"   4 hours ago          Up 4 minutes                  0.0.0.0:9200->9200/tcp, 9300/tcp, 0.0.0.0:9600->9600/tcp, 9650/tcp   opensearch-node1\n",
      "ddae809d563e   opensearchproject/opensearch:2.6.0              \"./opensearch-docker…\"   4 hours ago          Up 3 minutes                  9200/tcp, 9300/tcp, 9600/tcp, 9650/tcp                               opensearch-node3\n"
     ]
    }
   ],
   "source": [
    "! docker ps"
   ]
  },
  {
   "attachments": {},
   "cell_type": "markdown",
   "metadata": {},
   "source": [
    "#### Q1: Which node was elected as cluster manager?"
   ]
  },
  {
   "cell_type": "code",
   "execution_count": 2,
   "metadata": {},
   "outputs": [
    {
     "name": "stdout",
     "output_type": "stream",
     "text": [
      "ip         heap.percent ram.percent cpu load_1m load_5m load_15m node.role node.roles                                        cluster_manager name\n",
      "172.18.0.2           54          40   1    0.31    0.27     0.28 dimr      cluster_manager,data,ingest,remote_cluster_client -               opensearch-node3\n",
      "172.18.0.5           66          40   1    0.31    0.27     0.28 dimr      cluster_manager,data,ingest,remote_cluster_client -               opensearch-node2\n",
      "172.18.0.3           35          40   2    0.31    0.27     0.28 dimr      cluster_manager,data,ingest,remote_cluster_client *               opensearch-node1\n"
     ]
    }
   ],
   "source": [
    "! curl -u admin:admin -k -X GET \"https://localhost:9200/_cat/nodes?v\""
   ]
  },
  {
   "attachments": {},
   "cell_type": "markdown",
   "metadata": {},
   "source": [
    "A1: opensearch-node1"
   ]
  },
  {
   "cell_type": "code",
   "execution_count": 3,
   "metadata": {},
   "outputs": [
    {
     "name": "stdout",
     "output_type": "stream",
     "text": [
      "opensearch-node1\n"
     ]
    }
   ],
   "source": [
    "! docker stop opensearch-node1"
   ]
  },
  {
   "cell_type": "code",
   "execution_count": 7,
   "metadata": {},
   "outputs": [],
   "source": [
    "# ip         heap.percent ram.percent cpu load_1m load_5m load_15m node.role node.roles                                        cluster_manager name\n",
    "# 172.18.0.5           24          30   1    0.25    0.25     0.27 dimr      cluster_manager,data,ingest,remote_cluster_client -               opensearch-node2\n",
    "# 172.18.0.2           15          30   1    0.25    0.25     0.27 dimr      cluster_manager,data,ingest,remote_cluster_client *               opensearch-node3\n"
   ]
  },
  {
   "attachments": {},
   "cell_type": "markdown",
   "metadata": {},
   "source": [
    "Q2: After stopping the previous cluster manager, which node was elected the new cluster manager?\n",
    "\n",
    "A2: opensearch-node3"
   ]
  },
  {
   "cell_type": "code",
   "execution_count": 11,
   "metadata": {},
   "outputs": [],
   "source": [
    "# opensearch-node3       | [2023-05-13T16:44:40,757][INFO ][o.o.c.c.Coordinator      ] [opensearch-node3] cluster-manager node [{opensearch-node1}{GJkgkvlTTGmkXhDgvgIGCw}{2yMOv11RSz6YQKWd8DlR1w}{172.18.0.3}{172.18.0.3:9300}{dimr}{shard_indexing_pressure_enabled=true}] failed, restarting discovery\n",
    "# [2023-05-13T16:44:40,929][INFO ][o.o.c.s.MasterService    ] [opensearch-node3] elected-as-cluster-manager ([2] nodes joined)[{opensearch-node3}{6eiG0tSUTQSn7hSKGTfvDg}{W2-EHRvARZGlqZ23fgfUEg}{172.18.0.2}{172.18.0.2:9300}{dimr}{shard_indexing_pressure_enabled=true} elect leader, {opensearch-node2}{an19axTsRReTRjcVO1VhZA}{rsye-Pj_SpmX8HFuu2Pj6w}{172.18.0.5}{172.18.0.5:9300}{dimr}{shard_indexing_pressure_enabled=true} elect leader, _BECOME_CLUSTER_MANAGER_TASK_, _FINISH_ELECTION_], term: 6, version: 72, delta: cluster-manager node changed {previous [], current [{opensearch-node3}{6eiG0tSUTQSn7hSKGTfvDg}{W2-EHRvARZGlqZ23fgfUEg}{172.18.0.2}{172.18.0.2:9300}{dimr}{shard_indexing_pressure_enabled=true}]}"
   ]
  },
  {
   "cell_type": "code",
   "execution_count": 12,
   "metadata": {},
   "outputs": [
    {
     "name": "stdout",
     "output_type": "stream",
     "text": [
      "opensearch-node1\n"
     ]
    }
   ],
   "source": [
    "! docker start opensearch-node1"
   ]
  },
  {
   "attachments": {},
   "cell_type": "markdown",
   "metadata": {},
   "source": [
    "Q3: Did the cluster manager node change again? (was a different node elected as cluster manager when you started the node back up?)"
   ]
  },
  {
   "cell_type": "code",
   "execution_count": 13,
   "metadata": {},
   "outputs": [
    {
     "name": "stdout",
     "output_type": "stream",
     "text": [
      "ip         heap.percent ram.percent cpu load_1m load_5m load_15m node.role node.roles                                        cluster_manager name\n",
      "172.18.0.2           25          40   1    0.32    0.25     0.21 dimr      cluster_manager,data,ingest,remote_cluster_client *               opensearch-node3\n",
      "172.18.0.5           30          40   1    0.32    0.25     0.21 dimr      cluster_manager,data,ingest,remote_cluster_client -               opensearch-node2\n",
      "172.18.0.3           31          40   1    0.32    0.25     0.21 dimr      cluster_manager,data,ingest,remote_cluster_client -               opensearch-node1\n"
     ]
    }
   ],
   "source": [
    "! curl -u admin:admin -k -X GET \"https://localhost:9200/_cat/nodes?v\""
   ]
  },
  {
   "attachments": {},
   "cell_type": "markdown",
   "metadata": {},
   "source": [
    "A3: No, cluster manager node did not change."
   ]
  },
  {
   "attachments": {},
   "cell_type": "markdown",
   "metadata": {},
   "source": [
    "### Level 2"
   ]
  },
  {
   "cell_type": "code",
   "execution_count": 19,
   "metadata": {},
   "outputs": [],
   "source": [
    "import os\n",
    "os.environ[\"WEEK3_PATH\"] = \"/Users/krzysztof.mioduszews/Development/Courses/corise-search-eng/search_engineering/week3\"\n",
    "os.environ[\"BBUY_DATA\"] = \"/Users/krzysztof.mioduszews/Development/Courses/corise-search-eng/datasets/product_data/products\"\n"
   ]
  },
  {
   "cell_type": "code",
   "execution_count": 21,
   "metadata": {},
   "outputs": [
    {
     "name": "stdout",
     "output_type": "stream",
     "text": [
      "{\"acknowledged\":true,\"shards_acknowledged\":true,\"index\":\"bbuy_products\"}"
     ]
    }
   ],
   "source": [
    "! curl -k -X PUT -u admin:admin \"https://localhost:9200/bbuy_products\" -H 'Content-Type: application/json' -d @$WEEK3_PATH/bbuy_products.json"
   ]
  },
  {
   "cell_type": "code",
   "execution_count": 22,
   "metadata": {},
   "outputs": [
    {
     "name": "stdout",
     "output_type": "stream",
     "text": [
      "INFO:Indexing /Users/krzysztof.mioduszews/Development/Courses/corise-search-eng/datasets/product_data/products to bbuy_products with 8 workers, refresh_interval of -1 to host localhost with a maximum number of docs sent per file per worker of 1000 and 500 per batch.\n",
      "INFO:Done. 255077 were indexed in 3.5216314651 minutes.  Total accumulated time spent in `bulk` indexing: 9.139541834033327 minutes\n"
     ]
    }
   ],
   "source": [
    "!python index.py -s $BBUY_DATA -w 8 -b 500 -m 1000"
   ]
  },
  {
   "cell_type": "code",
   "execution_count": 23,
   "metadata": {},
   "outputs": [
    {
     "name": "stdout",
     "output_type": "stream",
     "text": [
      "index         shard prirep state    docs  store ip         node\n",
      "bbuy_products 0     p      STARTED 84880 90.1mb 172.18.0.3 opensearch-node1\n",
      "bbuy_products 0     r      STARTED 84880 94.5mb 172.18.0.2 opensearch-node3\n",
      "bbuy_products 0     r      STARTED 84880 94.7mb 172.18.0.5 opensearch-node2\n",
      "bbuy_products 1     p      STARTED 85376 92.8mb 172.18.0.2 opensearch-node3\n",
      "bbuy_products 1     r      STARTED 85376 88.6mb 172.18.0.3 opensearch-node1\n",
      "bbuy_products 1     r      STARTED 85376 94.9mb 172.18.0.5 opensearch-node2\n",
      "bbuy_products 2     p      STARTED 84821 93.7mb 172.18.0.5 opensearch-node2\n",
      "bbuy_products 2     r      STARTED 84821 93.9mb 172.18.0.3 opensearch-node1\n",
      "bbuy_products 2     r      STARTED 84821 94.4mb 172.18.0.2 opensearch-node3\n"
     ]
    }
   ],
   "source": [
    "! curl -u admin:admin -k -X GET \"https://localhost:9200/_cat/shards/bbuy_products?v&s=shard,prirep\""
   ]
  },
  {
   "cell_type": "code",
   "execution_count": 25,
   "metadata": {},
   "outputs": [
    {
     "name": "stdout",
     "output_type": "stream",
     "text": [
      "{\"acknowledged\":true}"
     ]
    }
   ],
   "source": [
    "! curl -u admin:admin -k -X DELETE \"https://localhost:9200/bbuy_products/\""
   ]
  },
  {
   "cell_type": "code",
   "execution_count": 26,
   "metadata": {},
   "outputs": [
    {
     "name": "stdout",
     "output_type": "stream",
     "text": [
      "{\"acknowledged\":true,\"shards_acknowledged\":true,\"index\":\"bbuy_products\"}"
     ]
    }
   ],
   "source": [
    "! curl -k -X PUT -u admin:admin \"https://localhost:9200/bbuy_products\" -H 'Content-Type: application/json' -d @$WEEK3_PATH/bbuy_products.json"
   ]
  },
  {
   "cell_type": "code",
   "execution_count": 27,
   "metadata": {},
   "outputs": [
    {
     "name": "stdout",
     "output_type": "stream",
     "text": [
      "INFO:Indexing /Users/krzysztof.mioduszews/Development/Courses/corise-search-eng/datasets/product_data/products to bbuy_products with 8 workers, refresh_interval of -1 to host localhost with a maximum number of docs sent per file per worker of 1000 and 500 per batch.\n",
      "INFO:Done. 255077 were indexed in 2.4895814310499995 minutes.  Total accumulated time spent in `bulk` indexing: 3.1895598371166676 minutes\n"
     ]
    }
   ],
   "source": [
    "!python index.py -s $BBUY_DATA -w 8 -b 500 -m 1000"
   ]
  },
  {
   "cell_type": "code",
   "execution_count": 28,
   "metadata": {},
   "outputs": [
    {
     "name": "stdout",
     "output_type": "stream",
     "text": [
      "index         shard prirep state    docs  store ip         node\n",
      "bbuy_products 0     p      STARTED 84880 90.8mb 172.18.0.3 opensearch-node1\n",
      "bbuy_products 1     p      STARTED 85376 92.6mb 172.18.0.2 opensearch-node3\n",
      "bbuy_products 2     p      STARTED 84821 89.6mb 172.18.0.5 opensearch-node2\n"
     ]
    }
   ],
   "source": [
    "! curl -u admin:admin -k -X GET \"https://localhost:9200/_cat/shards/bbuy_products?v&s=shard,prirep\""
   ]
  },
  {
   "attachments": {},
   "cell_type": "markdown",
   "metadata": {},
   "source": [
    "Q4: How much faster was it to index the dataset with 0 replicas versus the previous time with 2 replica shards?\n",
    "\n",
    "A4: 2.48 minutes vs 3.58 minutes"
   ]
  },
  {
   "attachments": {},
   "cell_type": "markdown",
   "metadata": {},
   "source": [
    "Q5: Why was it faster?\n",
    "A5: Replication is done sequentialy after indexing the document in primary shard. Succesfull indexing of one document requires replication in all replicas to be finished. Thus dropping replicas cuts the indexing time."
   ]
  },
  {
   "cell_type": "code",
   "execution_count": 29,
   "metadata": {},
   "outputs": [
    {
     "name": "stdout",
     "output_type": "stream",
     "text": [
      "{\"acknowledged\":true}"
     ]
    }
   ],
   "source": [
    "! curl -k -XPUT -u admin:admin 'https://localhost:9200/bbuy_products/_settings' -H 'Content-Type: application/json' -d '{ \"index\": { \"number_of_replicas\": 2} }'"
   ]
  },
  {
   "attachments": {},
   "cell_type": "markdown",
   "metadata": {},
   "source": [
    "```\n",
    "[2023-05-13T19:33:50,603][INFO ][o.o.c.m.MetadataUpdateSettingsService] [opensearch-node3] updating number_of_replicas to [2] for indices [bbuy_products]\n",
    "[2023-05-13T19:34:00,293][INFO ][o.o.c.r.a.AllocationService] [opensearch-node3] Cluster health status changed from [YELLOW] to [GREEN] (reason: [shards started [[bbuy_products][1]]]).\n",
    "```"
   ]
  },
  {
   "attachments": {},
   "cell_type": "markdown",
   "metadata": {},
   "source": [
    "Q6: How long did it take to create the new replica shards?  This will be the difference in time between those two log messages.\n",
    "\n",
    "A6: 10 seconds"
   ]
  },
  {
   "attachments": {},
   "cell_type": "markdown",
   "metadata": {},
   "source": [
    "Q7: Those two messages were both logged by the cluster_manager.  Why do you think the cluster manager is the node that logs these actions (versus non-manager nodes)?\n",
    "\n",
    "A7: Cluster manager is the source of truth and is co-ordinating all the work related to shards/replicas placements."
   ]
  },
  {
   "cell_type": "code",
   "execution_count": 30,
   "metadata": {},
   "outputs": [
    {
     "name": "stdout",
     "output_type": "stream",
     "text": [
      "index         shard prirep state    docs  store ip         node\n",
      "bbuy_products 0     p      STARTED 84880 90.8mb 172.18.0.3 opensearch-node1\n",
      "bbuy_products 0     r      STARTED 84880 90.8mb 172.18.0.2 opensearch-node3\n",
      "bbuy_products 0     r      STARTED 84880 90.8mb 172.18.0.5 opensearch-node2\n",
      "bbuy_products 1     p      STARTED 85376 92.6mb 172.18.0.2 opensearch-node3\n",
      "bbuy_products 1     r      STARTED 85376 92.6mb 172.18.0.3 opensearch-node1\n",
      "bbuy_products 1     r      STARTED 85376 92.6mb 172.18.0.5 opensearch-node2\n",
      "bbuy_products 2     p      STARTED 84821 89.6mb 172.18.0.5 opensearch-node2\n",
      "bbuy_products 2     r      STARTED 84821 89.6mb 172.18.0.3 opensearch-node1\n",
      "bbuy_products 2     r      STARTED 84821 89.6mb 172.18.0.2 opensearch-node3\n"
     ]
    }
   ],
   "source": [
    "! curl -u admin:admin -k -X GET \"https://localhost:9200/_cat/shards/bbuy_products?v&s=shard,prirep\""
   ]
  },
  {
   "attachments": {},
   "cell_type": "markdown",
   "metadata": {},
   "source": [
    "### Level 3"
   ]
  },
  {
   "cell_type": "code",
   "execution_count": 31,
   "metadata": {},
   "outputs": [],
   "source": [
    "os.environ[\"BBUY_QUERIES\"] = \"/Users/krzysztof.mioduszews/Development/Courses/corise-search-eng/datasets/\""
   ]
  },
  {
   "cell_type": "code",
   "execution_count": null,
   "metadata": {},
   "outputs": [],
   "source": [
    "!python query.py -q $BBUY_QUERIES/train.csv -w 4 -m 25000"
   ]
  },
  {
   "attachments": {},
   "cell_type": "markdown",
   "metadata": {},
   "source": [
    "![QPS](qps.png)\n",
    "\n",
    "Whole system almost 1k QPS. Week2 best configuration (4 CPU, 4 GB heap size) was around 300 QPS."
   ]
  },
  {
   "attachments": {},
   "cell_type": "markdown",
   "metadata": {},
   "source": []
  },
  {
   "attachments": {},
   "cell_type": "markdown",
   "metadata": {},
   "source": []
  },
  {
   "attachments": {},
   "cell_type": "markdown",
   "metadata": {},
   "source": []
  },
  {
   "attachments": {},
   "cell_type": "markdown",
   "metadata": {},
   "source": []
  },
  {
   "attachments": {},
   "cell_type": "markdown",
   "metadata": {},
   "source": []
  },
  {
   "cell_type": "code",
   "execution_count": null,
   "metadata": {},
   "outputs": [],
   "source": []
  },
  {
   "cell_type": "code",
   "execution_count": null,
   "metadata": {},
   "outputs": [],
   "source": []
  },
  {
   "cell_type": "code",
   "execution_count": null,
   "metadata": {},
   "outputs": [],
   "source": []
  }
 ],
 "metadata": {
  "kernelspec": {
   "display_name": ".venv",
   "language": "python",
   "name": "python3"
  },
  "language_info": {
   "codemirror_mode": {
    "name": "ipython",
    "version": 3
   },
   "file_extension": ".py",
   "mimetype": "text/x-python",
   "name": "python",
   "nbconvert_exporter": "python",
   "pygments_lexer": "ipython3",
   "version": "3.9.16"
  },
  "orig_nbformat": 4
 },
 "nbformat": 4,
 "nbformat_minor": 2
}
